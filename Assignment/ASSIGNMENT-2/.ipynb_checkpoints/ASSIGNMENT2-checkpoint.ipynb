{
 "cells": [
  {
   "cell_type": "markdown",
   "id": "e97d3fa4-b703-46ae-a746-9381ea7a2a76",
   "metadata": {},
   "source": [
    "***Q1--BASIC FUNCTION IMPLEMENTATION***"
   ]
  },
  {
   "cell_type": "markdown",
   "id": "6fd045e3-f7a3-4305-8d3b-2ff1aed59c04",
   "metadata": {},
   "source": [
    "***Write a function greet that takes two arguments: name (a string) and greeting (a string with a default value of \"Hello\"). The function should return a greeting message.***"
   ]
  },
  {
   "cell_type": "code",
   "execution_count": 1,
   "id": "a5727683-2c64-453d-99a2-13691aab4f86",
   "metadata": {},
   "outputs": [
    {
     "name": "stdout",
     "output_type": "stream",
     "text": [
      "HELLO AVANTIKA NEGI\n",
      "GOOD AFTERNOON GUNJAN\n"
     ]
    }
   ],
   "source": [
    "def greet(name,greeting=\"HELLO\"): #Variable greeting have a default value \"hello\"\n",
    "    print(f\"{greeting} {name}\") # Using string formating\n",
    "\n",
    "greet(\"AVANTIKA NEGI\")\n",
    "greet(\"GUNJAN\",\"GOOD AFTERNOON\")"
   ]
  },
  {
   "cell_type": "markdown",
   "id": "6428ced5-0fbf-42f4-a38f-0a294d8f624b",
   "metadata": {},
   "source": [
    "***Q2--Named Assignment***"
   ]
  },
  {
   "cell_type": "markdown",
   "id": "faa27646-6a27-4f3a-9076-cc4b41f98064",
   "metadata": {},
   "source": [
    "***Create a function create_profile that takes arguments for name, age, and city as named arguments. The function should return a string like \"Name: Alice, Age: 25, City: New York\". Ensure that the age argument has a default value of 18.***"
   ]
  },
  {
   "cell_type": "code",
   "execution_count": 2,
   "id": "111fff7e-41ab-49b6-afd7-e706b8063874",
   "metadata": {},
   "outputs": [
    {
     "name": "stdout",
     "output_type": "stream",
     "text": [
      "NAME:AVANTIKA NEGI,AGE:18,CITY:UTTARAKHAND\n",
      "NAME:MANSI BISHT,AGE:22,CITY:DELHI\n"
     ]
    }
   ],
   "source": [
    "#Creating a function name as create_profile\n",
    "def creat_profile(name,city,age=18): #Age variable store a default value 18\n",
    "    print(f\"NAME:{name},AGE:{age},CITY:{city}\")\n",
    "\n",
    "creat_profile(name=\"AVANTIKA NEGI\",city=\"UTTARAKHAND\")\n",
    "creat_profile(name=\"MANSI BISHT\",age=\"22\",city=\"DELHI\")\n",
    "    "
   ]
  },
  {
   "cell_type": "markdown",
   "id": "fc287804-133b-44b3-adb1-31db587f421a",
   "metadata": {},
   "source": [
    "**Q--3 Using args and kwarge:**"
   ]
  },
  {
   "cell_type": "markdown",
   "id": "90ae854c-182e-4964-9991-d75db587f909",
   "metadata": {},
   "source": [
    "**Write a function sum_numbers that takes any number of positional arguments (args) and keyword arguments (kwargs). It should:**"
   ]
  },
  {
   "cell_type": "code",
   "execution_count": 4,
   "id": "94c23db8-ef99-4992-8b44-0007c3726d08",
   "metadata": {},
   "outputs": [
    {
     "name": "stdout",
     "output_type": "stream",
     "text": [
      "24\n",
      "(8, {'x': 4, 'y': 5})\n"
     ]
    }
   ],
   "source": [
    "#creating a function \"sum_numbers\"\n",
    "def sum_numbers(*args, **kwargs):\n",
    "    # Filter and sum positional arguments that are numbers\n",
    "    totalSum = sum(arg for arg in args if isinstance(arg, (int, float)))\n",
    "    \n",
    "    # Return only the sum if no keyword arguments are passed\n",
    "    if not kwargs:\n",
    "        return totalSum\n",
    "    \n",
    "    # Return the sum and the dictionary of keyword arguments if any\n",
    "    return totalSum, kwargs\n",
    "\n",
    "print(sum_numbers(9 , 7, 8))             \n",
    "print(sum_numbers(3, 5, x=4, y=5))"
   ]
  },
  {
   "cell_type": "markdown",
   "id": "fe33ee8a",
   "metadata": {},
   "source": [
    "**Q4-- Lambdas and map:**"
   ]
  },
  {
   "cell_type": "markdown",
   "id": "8ef65d9c",
   "metadata": {},
   "source": [
    "**Write a function that uses map and a lambda to return a list where each element is squared.**"
   ]
  },
  {
   "cell_type": "code",
   "execution_count": 5,
   "id": "70d32355",
   "metadata": {},
   "outputs": [
    {
     "data": {
      "text/plain": [
       "[81, 100, 121, 144]"
      ]
     },
     "execution_count": 5,
     "metadata": {},
     "output_type": "execute_result"
    }
   ],
   "source": [
    "#lambda function\n",
    "def square_list(numbers):\n",
    "    squares= map(lambda x: x**2, numbers) #squaring the numbers present in the list\n",
    "    return list(squares) #returning the squares of the number where the function was called\n",
    "\n",
    "square_list([9,10,11,12])"
   ]
  },
  {
   "cell_type": "markdown",
   "id": "32bbfa44",
   "metadata": {},
   "source": [
    "**Q5-- FILTER AND LAMBDAS:**"
   ]
  },
  {
   "cell_type": "markdown",
   "id": "8443d9a6",
   "metadata": {},
   "source": [
    "**Write a function that filters out all odd numbers from a list using filter and a lambda function.**"
   ]
  },
  {
   "cell_type": "code",
   "execution_count": 15,
   "id": "23a45133",
   "metadata": {},
   "outputs": [
    {
     "data": {
      "text/plain": [
       "[1, 3, 5]"
      ]
     },
     "execution_count": 15,
     "metadata": {},
     "output_type": "execute_result"
    }
   ],
   "source": [
    "#creating a function that takes list as an arguement\n",
    "def filter_odd_numbers(numbers):\n",
    "    odd_numbers = filter(lambda x: x%2 != 0, numbers) #checking whether the number in numbers are divisible by 2\n",
    "    return list(odd_numbers)\n",
    "\n",
    "filter_odd_numbers([1,2,3,4,5])"
   ]
  },
  {
   "cell_type": "markdown",
   "id": "d225a448",
   "metadata": {},
   "source": [
    "**Q6--BASIC LIST COMPREHENSION:**"
   ]
  },
  {
   "cell_type": "markdown",
   "id": "f5e46b9f",
   "metadata": {},
   "source": [
    "**Create a list comprehension that takes a list of numbers and returns a list of their squares.**"
   ]
  },
  {
   "cell_type": "code",
   "execution_count": 17,
   "id": "661c0887",
   "metadata": {},
   "outputs": [
    {
     "name": "stdout",
     "output_type": "stream",
     "text": [
      "[0, 1, 4, 9, 16, 25, 36, 49, 64]\n"
     ]
    }
   ],
   "source": [
    "sqr = [x**2 for x in range(9)]\n",
    "print(sqr)"
   ]
  },
  {
   "cell_type": "markdown",
   "id": "802c1639",
   "metadata": {},
   "source": [
    "**Q7--LIST COMPREHENSION WITH CONDITION:**"
   ]
  },
  {
   "cell_type": "markdown",
   "id": "c148a7a0",
   "metadata": {},
   "source": [
    "**Use a list comprehension to create a list of even numbers from 1 to 20.**"
   ]
  },
  {
   "cell_type": "code",
   "execution_count": 21,
   "id": "d08685eb",
   "metadata": {},
   "outputs": [
    {
     "name": "stdout",
     "output_type": "stream",
     "text": [
      "[2, 4, 6, 8, 10, 12, 14, 16, 18, 20]\n"
     ]
    }
   ],
   "source": [
    "even_Number = [x for x in range(1,21) if x%2==0]\n",
    "print(list(even_Number))"
   ]
  },
  {
   "cell_type": "markdown",
   "id": "9fabc2e9",
   "metadata": {},
   "source": [
    "**Q8--USING OS AND TIME MODULES:**"
   ]
  },
  {
   "cell_type": "markdown",
   "id": "9e34280c",
   "metadata": {},
   "source": [
    "**Write a function file_operations that creates a directory named \"test_folder\" using os.makedirs(). Then, pause the execution for 3 seconds using time.sleep(), and finally, delete the directory using os.rmdir().**"
   ]
  },
  {
   "cell_type": "code",
   "execution_count": 1,
   "id": "820fb5ed",
   "metadata": {},
   "outputs": [
    {
     "name": "stdout",
     "output_type": "stream",
     "text": [
      "dir created\n",
      "dir deleted\n"
     ]
    }
   ],
   "source": [
    "#importing time and os modules\n",
    "import os\n",
    "import time\n",
    "\n",
    "#creating non parametrized function, file_operations\n",
    "def file_operations():\n",
    "    \n",
    "    #creating a new directory\n",
    "    os.makedirs(\"test_folder\") #cretaed a directory named as test_folder\n",
    "    print(\"dir created\")\n",
    "    time.sleep(3) #using sleep function from time module to stop the execution for 3 sec\n",
    "    \n",
    "    #removing a directory\n",
    "    os.rmdir(\"test_folder\")\n",
    "    print(\"dir deleted\")\n",
    "    \n",
    "file_operations()"
   ]
  },
  {
   "cell_type": "markdown",
   "id": "76a18796",
   "metadata": {},
   "source": [
    "**Q9--IMPORTING SPECIFIC FUNCTION:**"
   ]
  },
  {
   "cell_type": "markdown",
   "id": "a157b417",
   "metadata": {},
   "source": [
    "**Write a Python script that imports only sleep from the time module and renames it to pause. Use it to pause execution for 2 seconds and print \"Paused execution...\"**"
   ]
  },
  {
   "cell_type": "code",
   "execution_count": 2,
   "id": "60156479",
   "metadata": {},
   "outputs": [
    {
     "name": "stdout",
     "output_type": "stream",
     "text": [
      "Paused execution...\n"
     ]
    }
   ],
   "source": [
    "#importing the function, sleep from time module and rename as pause\n",
    "from time import sleep as pause \n",
    "pause(2) #pauses the execution for 2 sec\n",
    "print(\"Paused execution...\")"
   ]
  },
  {
   "cell_type": "markdown",
   "id": "21535c76",
   "metadata": {},
   "source": [
    "**Q10--RECURSIVE FUNCTION WITH ARGS AND KWARGS(FLATTENING A LIST):**"
   ]
  },
  {
   "cell_type": "markdown",
   "id": "bc2ca86b",
   "metadata": {},
   "source": [
    "**Write a recursive function flatten_list that can flatten a nested list of any depth using *args and **kwargs.*******\n"
   ]
  },
  {
   "cell_type": "code",
   "execution_count": 1,
   "id": "bbd926b0",
   "metadata": {},
   "outputs": [
    {
     "name": "stdout",
     "output_type": "stream",
     "text": [
      "[1, 2, 3, 4, 5, 6]\n",
      "[1, 2, 3, 4, 5]\n"
     ]
    }
   ],
   "source": [
    "#creating a function that converts nested list into simple list\n",
    "def flatten_list(*args, **kwargs):\n",
    "    #uses *args to handle any number of arguments\n",
    "    flatten = []#creating an empty list\n",
    "    \n",
    "    for item in args:\n",
    "        if isinstance(item, list): #cheking whether each element is a list or a simple number\n",
    "            flatten.extend(flatten_list(*item, *kwargs))\n",
    "            \n",
    "        else:\n",
    "            flatten.append(item) #directly adding the element in the list if its not a list\n",
    "            \n",
    "    return flatten\n",
    "\n",
    "print(flatten_list([1, [2, 3], [[4, 5], 6]]))\n",
    "print(flatten_list([[1, 2], [3, [4, [5]]]]))\n"
   ]
  },
  {
   "cell_type": "code",
   "execution_count": null,
   "id": "24151d0c",
   "metadata": {},
   "outputs": [],
   "source": []
  }
 ],
 "metadata": {
  "kernelspec": {
   "display_name": "Python 3 (ipykernel)",
   "language": "python",
   "name": "python3"
  },
  "language_info": {
   "codemirror_mode": {
    "name": "ipython",
    "version": 3
   },
   "file_extension": ".py",
   "mimetype": "text/x-python",
   "name": "python",
   "nbconvert_exporter": "python",
   "pygments_lexer": "ipython3",
   "version": "3.12.4"
  }
 },
 "nbformat": 4,
 "nbformat_minor": 5
}
