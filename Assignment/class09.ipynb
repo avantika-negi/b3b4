{
 "cells": [
  {
   "cell_type": "markdown",
   "id": "58872012-2b5b-4d0e-bc91-dc0fa9573862",
   "metadata": {},
   "source": [
    "**Write a function to multiply tree number and return its result (simple,using lamdas)**"
   ]
  },
  {
   "cell_type": "code",
   "execution_count": 3,
   "id": "b0327d14-186a-421c-8636-36df6f5d003e",
   "metadata": {},
   "outputs": [
    {
     "name": "stdout",
     "output_type": "stream",
     "text": [
      "48\n"
     ]
    }
   ],
   "source": [
    "#Lambda Function to multiply tree numbers\n",
    "mult=lambda a,b,c :a*b*c\n",
    "print(mult(2,4,6))"
   ]
  },
  {
   "cell_type": "code",
   "execution_count": 4,
   "id": "56342542-71e0-46de-9e6c-a48ec30011f6",
   "metadata": {},
   "outputs": [
    {
     "data": {
      "text/plain": [
       "300"
      ]
     },
     "execution_count": 4,
     "metadata": {},
     "output_type": "execute_result"
    }
   ],
   "source": [
    "def multiply(a,b,c):\n",
    "    return(a*b*c)\n",
    "multiply(5,10,6)"
   ]
  },
  {
   "cell_type": "code",
   "execution_count": 6,
   "id": "6da98345-e3a9-4d6c-8325-3528be5de84b",
   "metadata": {},
   "outputs": [
    {
     "name": "stdout",
     "output_type": "stream",
     "text": [
      "300\n"
     ]
    }
   ],
   "source": [
    "multiply = lambda a,b,c:a*b*c\n",
    "print(multiply(5,10,6))"
   ]
  },
  {
   "cell_type": "code",
   "execution_count": 8,
   "id": "ed2426e5-fa8d-41cb-9a8b-cadd3adddede",
   "metadata": {},
   "outputs": [
    {
     "name": "stdout",
     "output_type": "stream",
     "text": [
      "[0, 4, 16, 36, 64]\n"
     ]
    }
   ],
   "source": [
    "#the same functionality using list comprehension \n",
    "squres=[i**2 for i in range(10) if i%2==0]\n",
    "print(squres)"
   ]
  },
  {
   "cell_type": "code",
   "execution_count": null,
   "id": "a6de6c35-911e-44a6-b698-e8649f676728",
   "metadata": {},
   "outputs": [],
   "source": []
  }
 ],
 "metadata": {
  "kernelspec": {
   "display_name": "Python 3 (ipykernel)",
   "language": "python",
   "name": "python3"
  },
  "language_info": {
   "codemirror_mode": {
    "name": "ipython",
    "version": 3
   },
   "file_extension": ".py",
   "mimetype": "text/x-python",
   "name": "python",
   "nbconvert_exporter": "python",
   "pygments_lexer": "ipython3",
   "version": "3.12.4"
  }
 },
 "nbformat": 4,
 "nbformat_minor": 5
}
