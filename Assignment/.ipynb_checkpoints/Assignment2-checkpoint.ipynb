{
 "cells": [
  {
   "cell_type": "code",
   "execution_count": 4,
   "id": "7d0c7a4d-16ab-4213-bf3a-19cb16f8d0c3",
   "metadata": {},
   "outputs": [
    {
     "name": "stdout",
     "output_type": "stream",
     "text": [
      "hello meri jaan ,avantika negi \n"
     ]
    }
   ],
   "source": [
    "def greet(name):\n",
    "    return f\"hello meri jaan ,{name}\"\n",
    "\n",
    "message = greet(\"avantika negi \")\n",
    "print (message)"
   ]
  },
  {
   "cell_type": "code",
   "execution_count": 8,
   "id": "1c17b810-bc35-43c8-a725-65030d6d78fa",
   "metadata": {},
   "outputs": [
    {
     "name": "stdout",
     "output_type": "stream",
     "text": [
      "hello to my baby ,koi bi nhi h yrrr\n"
     ]
    }
   ],
   "source": [
    "def greet(function= \"koi bi nhi h yrrr\"):\n",
    "    return f\"hello to my baby ,{function}\"\n",
    "\n",
    "message = greet()\n",
    "print(message)"
   ]
  },
  {
   "cell_type": "code",
   "execution_count": null,
   "id": "e8655ce8-f336-4cc1-a92a-d1539a6b9915",
   "metadata": {},
   "outputs": [],
   "source": []
  }
 ],
 "metadata": {
  "kernelspec": {
   "display_name": "Python 3 (ipykernel)",
   "language": "python",
   "name": "python3"
  },
  "language_info": {
   "codemirror_mode": {
    "name": "ipython",
    "version": 3
   },
   "file_extension": ".py",
   "mimetype": "text/x-python",
   "name": "python",
   "nbconvert_exporter": "python",
   "pygments_lexer": "ipython3",
   "version": "3.12.4"
  }
 },
 "nbformat": 4,
 "nbformat_minor": 5
}
