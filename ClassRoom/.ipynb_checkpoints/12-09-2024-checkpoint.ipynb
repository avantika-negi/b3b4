{
 "cells": [
  {
   "cell_type": "markdown",
   "id": "fd2556f1-8e1c-446b-9ec1-04b592022f0e",
   "metadata": {},
   "source": [
    "**Write a program that takes directory address from user and returns a list of file names in that directory it can use os module to perform these things**"
   ]
  },
  {
   "cell_type": "code",
   "execution_count": 4,
   "id": "6a3974b4-9277-4655-90a4-d1263671c8f8",
   "metadata": {},
   "outputs": [
    {
     "name": "stdin",
     "output_type": "stream",
     "text": [
      "Enter location C:\\Users\\AVANTIKA\\Desktop\\Python\\b3b4\\ClassRoom\n"
     ]
    }
   ],
   "source": [
    "import os\n",
    "#help(os)\n",
    "\n",
    "address = input(\"Enter location\")\n",
    "#address = \"C:\\Users\\AVANTIKA\\Desktop\\Python\\b3b4\\ClassRoom\" ##for window users\n"
   ]
  },
  {
   "cell_type": "code",
   "execution_count": 5,
   "id": "ae98207e-a4af-4775-a26c-60cae1300d34",
   "metadata": {},
   "outputs": [
    {
     "data": {
      "text/plain": [
       "['.ipynb_checkpoints', '12-09-2024.ipynb', 'Question1.ipynb']"
      ]
     },
     "execution_count": 5,
     "metadata": {},
     "output_type": "execute_result"
    }
   ],
   "source": [
    "os.chdir(address)#change working dir\n",
    "\n",
    "list_of_files = os.listdir() #list files in dir\n",
    "list_of_files"
   ]
  },
  {
   "cell_type": "code",
   "execution_count": 6,
   "id": "3f8465da-21ec-475b-8806-519fdda3f21e",
   "metadata": {},
   "outputs": [
    {
     "name": "stdout",
     "output_type": "stream",
     "text": [
      ".ipynb_checkpoints\n",
      "12-09-2024.ipynb\n",
      "Question1.ipynb\n"
     ]
    }
   ],
   "source": [
    "for k in list_of_files:\n",
    "    print(k)\n",
    "  "
   ]
  },
  {
   "cell_type": "code",
   "execution_count": null,
   "id": "aa1299d4-f6fc-4cb5-a84e-d0b6dc47e035",
   "metadata": {},
   "outputs": [],
   "source": [
    "## write a function generates list of emails address using list of sap ids\n",
    "## generate email address using sap id\n",
    "#sap id\n",
    "12343242223\n",
    "#12343242223@stu.upes.ac.in\n",
    "#using\n",
    "#1. function /for loop\n",
    "#2. map/filter and lambda\n",
    "#3. list comprehension\n",
    "\n",
    "#sapids = [123,23432,345432,5678]\n",
    "\n",
    "list_of_emails = #your logic"
   ]
  },
  {
   "cell_type": "code",
   "execution_count": 8,
   "id": "76e8a783-c045-48b0-bf28-be606da8bd90",
   "metadata": {},
   "outputs": [
    {
     "data": {
      "text/plain": [
       "['123@stu.upes.ac.in',\n",
       " '234324@stu.upes.ac.in',\n",
       " '345345@stu.upes.ac.in',\n",
       " '4545@stu.upes.ac.in']"
      ]
     },
     "execution_count": 8,
     "metadata": {},
     "output_type": "execute_result"
    }
   ],
   "source": [
    "# 1st logic\n",
    "\n",
    "sapids= [123,234324,345345,4545]\n",
    "def id2email(id):\n",
    "    return str(id)+ \"@stu.upes.ac.in\"\n",
    "\n",
    "def sapids_to_emails(sapids):\n",
    "    emails=[]\n",
    "    for id in sapids:\n",
    "        email=id2email(id)\n",
    "        emails.append(email)\n",
    "\n",
    "    return emails\n",
    "\n",
    "list_of_emails = sapids_to_emails(sapids)\n",
    "\n",
    "list_of_emails"
   ]
  },
  {
   "cell_type": "code",
   "execution_count": 11,
   "id": "6952c90b-cdca-408a-bf35-4dbabb7c85c8",
   "metadata": {},
   "outputs": [
    {
     "data": {
      "text/plain": [
       "['123@stu.upes.ac.in',\n",
       " '234324@stu.upes.ac.in',\n",
       " '345345@stu.upes.ac.in',\n",
       " '4545@stu.upes.ac.in']"
      ]
     },
     "execution_count": 11,
     "metadata": {},
     "output_type": "execute_result"
    }
   ],
   "source": [
    "#2nd logic using map anfd function\n",
    "sapids= [123,234324,345345,4545]\n",
    "def id2email(id):\n",
    "    return str(id) + \"@stu.upes.ac.in\"\n",
    "\n",
    "list_of_emails = map(id2email,sapids) #for python2 \n",
    "\n",
    "list_of_emails = list(map(id2email,sapids)) #for python3\n",
    "list_of_emails\n"
   ]
  },
  {
   "cell_type": "code",
   "execution_count": 12,
   "id": "c3b1fe7b-cbe0-4bcc-8bb4-cbdbe5b2b1cc",
   "metadata": {},
   "outputs": [
    {
     "data": {
      "text/plain": [
       "['123@stu.upes.ac.in',\n",
       " '234324@stu.upes.ac.in',\n",
       " '345345@stu.upes.ac.in',\n",
       " '4545@stu.upes.ac.in']"
      ]
     },
     "execution_count": 12,
     "metadata": {},
     "output_type": "execute_result"
    }
   ],
   "source": [
    "#3rd logic using map and lambda\n",
    "sapids= [123,234324,345345,4545]\n",
    "#def id2email(id):\n",
    "    #return str(id) + \"@stu.upes.ac.in\"\n",
    "\n",
    "#list_of_emails = map(id2email,sapids) #for python2 \n",
    "\n",
    "list_of_emails = list(map(lambda id : str(id) + \"@stu.upes.ac.in\",sapids))\n",
    "list_of_emails\n"
   ]
  },
  {
   "cell_type": "code",
   "execution_count": 14,
   "id": "41a5f846-9ee0-430d-a2cd-c3717d5da1b6",
   "metadata": {},
   "outputs": [
    {
     "data": {
      "text/plain": [
       "['123 @stu.upes.ac.in',\n",
       " '234324 @stu.upes.ac.in',\n",
       " '345345 @stu.upes.ac.in',\n",
       " '4545 @stu.upes.ac.in']"
      ]
     },
     "execution_count": 14,
     "metadata": {},
     "output_type": "execute_result"
    }
   ],
   "source": [
    "#4th using list comprehnsion\n",
    "sapids= [123,234324,345345,4545]\n",
    "\n",
    "list_of_emails= [f\"{id} @stu.upes.ac.in\" for id in sapids]\n",
    "list_of_emails\n",
    "\n"
   ]
  },
  {
   "cell_type": "code",
   "execution_count": null,
   "id": "e8180e20-3bbb-4f59-a9bb-594ce6b58ad5",
   "metadata": {},
   "outputs": [],
   "source": []
  }
 ],
 "metadata": {
  "kernelspec": {
   "display_name": "Python 3 (ipykernel)",
   "language": "python",
   "name": "python3"
  },
  "language_info": {
   "codemirror_mode": {
    "name": "ipython",
    "version": 3
   },
   "file_extension": ".py",
   "mimetype": "text/x-python",
   "name": "python",
   "nbconvert_exporter": "python",
   "pygments_lexer": "ipython3",
   "version": "3.12.4"
  }
 },
 "nbformat": 4,
 "nbformat_minor": 5
}
