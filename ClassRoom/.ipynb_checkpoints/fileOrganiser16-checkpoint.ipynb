{
 "cells": [
  {
   "cell_type": "code",
   "execution_count": 1,
   "id": "0e8db49f-8759-4c51-a824-b514490b48cb",
   "metadata": {},
   "outputs": [
    {
     "name": "stdin",
     "output_type": "stream",
     "text": [
      "Enter address C:\\Users\\AVANTIKA\\Downloads\\Organizer\\Organizer\n"
     ]
    }
   ],
   "source": [
    "import os\n",
    "\n",
    "address=input(\"Enter address\")"
   ]
  },
  {
   "cell_type": "code",
   "execution_count": 4,
   "id": "76ab5d36-37d9-419b-a1e9-da5e0b368dc6",
   "metadata": {},
   "outputs": [],
   "source": [
    "os.chdir(address)\n",
    "list_of_files = os.listdir()\n",
    "list_of_files\n",
    "\n",
    "dir_to_create = \"Video,Audio,Images,Docs,Misc\".split(\",\")\n",
    "dir_to_create\n",
    "\n",
    "for dir1 in dir_to_create:\n",
    "    os.mkdir(dir1)"
   ]
  },
  {
   "cell_type": "code",
   "execution_count": 5,
   "id": "960def6d-0111-44b1-9137-e44c00bdaeff",
   "metadata": {},
   "outputs": [
    {
     "data": {
      "text/plain": [
       "['a1.mp3',\n",
       " 'a2.oog',\n",
       " 'd1.docx',\n",
       " 'd2.png',\n",
       " 'd3.pdf',\n",
       " 'd4.txt',\n",
       " 'image.png',\n",
       " 'image1.jpg',\n",
       " 'image2.jpg',\n",
       " 'image2.png',\n",
       " 'misc1',\n",
       " 'misc2',\n",
       " 'misc3',\n",
       " 'v1.mp4',\n",
       " 'v2.mkv']"
      ]
     },
     "execution_count": 5,
     "metadata": {},
     "output_type": "execute_result"
    }
   ],
   "source": [
    "list_of_files"
   ]
  },
  {
   "cell_type": "code",
   "execution_count": 14,
   "id": "9ab5ccf8-418a-4aa4-97a5-11441843ff6b",
   "metadata": {},
   "outputs": [
    {
     "name": "stdout",
     "output_type": "stream",
     "text": [
      "png\n",
      "png\n",
      "jpg\n",
      "jpg\n",
      "png\n"
     ]
    }
   ],
   "source": [
    "for f in list_of_files:\n",
    "    ext= (f.split(\".\")[-1])\n",
    "    \n",
    "    if ext == \"jpg\" or ext == \"png\" :\n",
    "        cmd = f\"move ./{f} ./Images/{f}\"\n",
    "        os.system(cmd)\n",
    "        print(ext)"
   ]
  },
  {
   "cell_type": "code",
   "execution_count": null,
   "id": "171f9a3c-c6ff-476b-a29c-27fba83f954f",
   "metadata": {},
   "outputs": [],
   "source": []
  }
 ],
 "metadata": {
  "kernelspec": {
   "display_name": "Python 3 (ipykernel)",
   "language": "python",
   "name": "python3"
  },
  "language_info": {
   "codemirror_mode": {
    "name": "ipython",
    "version": 3
   },
   "file_extension": ".py",
   "mimetype": "text/x-python",
   "name": "python",
   "nbconvert_exporter": "python",
   "pygments_lexer": "ipython3",
   "version": "3.12.4"
  }
 },
 "nbformat": 4,
 "nbformat_minor": 5
}
