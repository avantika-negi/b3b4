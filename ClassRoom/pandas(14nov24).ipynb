{
 "cells": [
  {
   "cell_type": "code",
   "execution_count": 5,
   "id": "4a23132b-118b-4e76-b413-53a9ba4c520a",
   "metadata": {},
   "outputs": [
    {
     "name": "stdout",
     "output_type": "stream",
     "text": [
      "0    10\n",
      "1    20\n",
      "2    30\n",
      "3    40\n",
      "dtype: int64\n"
     ]
    }
   ],
   "source": [
    "import pandas as pd\n",
    "\n",
    "# create a simple series\n",
    "s = pd.Series([10,20,30,40])\n",
    "print(s)"
   ]
  },
  {
   "cell_type": "code",
   "execution_count": 6,
   "id": "239b0308-b2cd-4f32-8b84-03ce9e10601e",
   "metadata": {},
   "outputs": [
    {
     "name": "stdout",
     "output_type": "stream",
     "text": [
      "      Name  Age         City\n",
      "0    Alice   24     New York\n",
      "1      Bob   27  Los Angeles\n",
      "2  Charlie   22      Chicago\n"
     ]
    }
   ],
   "source": [
    "data={\n",
    "    'Name': ['Alice','Bob','Charlie'],\n",
    "    'Age':[24,27,22],\n",
    "    'City':['New York','Los Angeles','Chicago']\n",
    "}\n",
    "df= pd.DataFrame(data)\n",
    "print(df)"
   ]
  },
  {
   "cell_type": "code",
   "execution_count": 7,
   "id": "f316c605-091a-4eec-8118-61557db00fa5",
   "metadata": {},
   "outputs": [
    {
     "name": "stdout",
     "output_type": "stream",
     "text": [
      "0      Alice\n",
      "1        Bob\n",
      "2    Charlie\n",
      "Name: Name, dtype: object\n",
      "      Name  Age\n",
      "0    Alice   24\n",
      "1      Bob   27\n",
      "2  Charlie   22\n"
     ]
    }
   ],
   "source": [
    "# Select a single column\n",
    "print(df['Name'])\n",
    "\n",
    "# Select multiple columns\n",
    "print(df[['Name','Age']])"
   ]
  },
  {
   "cell_type": "code",
   "execution_count": 8,
   "id": "c254021d-43f0-4bd3-b047-8a486a4c77e4",
   "metadata": {},
   "outputs": [
    {
     "name": "stdout",
     "output_type": "stream",
     "text": [
      "    Name  Age         City\n",
      "0  Alice   24     New York\n",
      "1    Bob   27  Los Angeles\n",
      "Name            Bob\n",
      "Age              27\n",
      "City    Los Angeles\n",
      "Name: 1, dtype: object\n"
     ]
    }
   ],
   "source": [
    "# Select first two rows\n",
    "print(df.iloc[:2])\n",
    "\n",
    "# Select rows by label index\n",
    "print(df.loc[1])"
   ]
  },
  {
   "cell_type": "code",
   "execution_count": 9,
   "id": "611da1d4-4127-4f0d-a02e-c516fb4fc1aa",
   "metadata": {},
   "outputs": [
    {
     "data": {
      "text/plain": [
       "Name    Charlie\n",
       "Age          22\n",
       "City    Chicago\n",
       "Name: 2, dtype: object"
      ]
     },
     "execution_count": 9,
     "metadata": {},
     "output_type": "execute_result"
    }
   ],
   "source": [
    "df.iloc[2]"
   ]
  },
  {
   "cell_type": "code",
   "execution_count": 14,
   "id": "afadea27-8996-4552-a4a5-1aa260408839",
   "metadata": {},
   "outputs": [
    {
     "data": {
      "text/plain": [
       "0     True\n",
       "1     True\n",
       "2    False\n",
       "Name: Age, dtype: bool"
      ]
     },
     "execution_count": 14,
     "metadata": {},
     "output_type": "execute_result"
    }
   ],
   "source": [
    "df['Age']>23\n",
    "#print(df[])"
   ]
  },
  {
   "cell_type": "code",
   "execution_count": 16,
   "id": "4d5241d3-f27c-4e64-b2ad-9e80773eed0e",
   "metadata": {},
   "outputs": [
    {
     "name": "stdout",
     "output_type": "stream",
     "text": [
      "0     True\n",
      "1     True\n",
      "2    False\n",
      "Name: Age, dtype: bool\n"
     ]
    }
   ],
   "source": [
    "#df['Age']>23\n",
    "print(df['Age']>23)"
   ]
  },
  {
   "cell_type": "code",
   "execution_count": 18,
   "id": "b17b04e7-4921-4ef2-8227-59ded2fa9559",
   "metadata": {},
   "outputs": [
    {
     "name": "stdout",
     "output_type": "stream",
     "text": [
      "Department\n",
      "Finance    58000.0\n",
      "HR         51000.0\n",
      "IT         61000.0\n",
      "Name: Salary, dtype: float64\n"
     ]
    }
   ],
   "source": [
    "data ={\n",
    "    'Department':['HR','HR','IT','IT','Finance'],\n",
    "    'Employee':['Alice','Bob','Charlie','David','Eve'],\n",
    "    'Salary':[50000,52000,60000,62000,58000]\n",
    "}\n",
    "df= pd.DataFrame(data)\n",
    "# Group by Department and calculate the mean salary\n",
    "grouped= df.groupby('Department')['Salary'].mean()\n",
    "print(grouped)"
   ]
  },
  {
   "cell_type": "markdown",
   "id": "dd188d1c-eefa-4c8a-99e5-5bde6614f09f",
   "metadata": {},
   "source": [
    "Q.) Create a dataframe and filter employees with salary>600000"
   ]
  },
  {
   "cell_type": "code",
   "execution_count": 21,
   "id": "c4cd9387-4eee-47de-9dc7-648e09132ae8",
   "metadata": {},
   "outputs": [
    {
     "name": "stdout",
     "output_type": "stream",
     "text": [
      "Empty DataFrame\n",
      "Columns: [Department, Employee, Salary]\n",
      "Index: []\n"
     ]
    }
   ],
   "source": [
    "data ={\n",
    "    'Department':['HR','HR','IT','IT','Finance'],\n",
    "    'Employee':['Alice','Bob','Charlie','David','Eve'],\n",
    "    'Salary':[50000,52000,60000,62000,58000]\n",
    "}\n",
    "df= pd.DataFrame(data)\n",
    "# Filter employees with Salary > 600000\n",
    "high_salary=df[df['Salary']> 600000]\n",
    "print(high_salary)"
   ]
  },
  {
   "cell_type": "code",
   "execution_count": 22,
   "id": "f080dc53-919a-480c-907d-949d655fb7e3",
   "metadata": {},
   "outputs": [
    {
     "data": {
      "text/html": [
       "<div>\n",
       "<style scoped>\n",
       "    .dataframe tbody tr th:only-of-type {\n",
       "        vertical-align: middle;\n",
       "    }\n",
       "\n",
       "    .dataframe tbody tr th {\n",
       "        vertical-align: top;\n",
       "    }\n",
       "\n",
       "    .dataframe thead th {\n",
       "        text-align: right;\n",
       "    }\n",
       "</style>\n",
       "<table border=\"1\" class=\"dataframe\">\n",
       "  <thead>\n",
       "    <tr style=\"text-align: right;\">\n",
       "      <th></th>\n",
       "      <th>Department</th>\n",
       "      <th>Employee</th>\n",
       "      <th>Salary</th>\n",
       "    </tr>\n",
       "  </thead>\n",
       "  <tbody>\n",
       "    <tr>\n",
       "      <th>0</th>\n",
       "      <td>HR</td>\n",
       "      <td>Alice</td>\n",
       "      <td>50000</td>\n",
       "    </tr>\n",
       "    <tr>\n",
       "      <th>1</th>\n",
       "      <td>HR</td>\n",
       "      <td>Bob</td>\n",
       "      <td>52000</td>\n",
       "    </tr>\n",
       "    <tr>\n",
       "      <th>2</th>\n",
       "      <td>IT</td>\n",
       "      <td>Charlie</td>\n",
       "      <td>60000</td>\n",
       "    </tr>\n",
       "    <tr>\n",
       "      <th>3</th>\n",
       "      <td>IT</td>\n",
       "      <td>David</td>\n",
       "      <td>62000</td>\n",
       "    </tr>\n",
       "    <tr>\n",
       "      <th>4</th>\n",
       "      <td>Finance</td>\n",
       "      <td>Eve</td>\n",
       "      <td>58000</td>\n",
       "    </tr>\n",
       "  </tbody>\n",
       "</table>\n",
       "</div>"
      ],
      "text/plain": [
       "  Department Employee  Salary\n",
       "0         HR    Alice   50000\n",
       "1         HR      Bob   52000\n",
       "2         IT  Charlie   60000\n",
       "3         IT    David   62000\n",
       "4    Finance      Eve   58000"
      ]
     },
     "execution_count": 22,
     "metadata": {},
     "output_type": "execute_result"
    }
   ],
   "source": [
    "df"
   ]
  },
  {
   "cell_type": "code",
   "execution_count": 27,
   "id": "9d817fad-144c-40da-9911-bf5741ee74a5",
   "metadata": {},
   "outputs": [],
   "source": [
    "df.to_excel(\"test1.xlsx\")"
   ]
  },
  {
   "cell_type": "code",
   "execution_count": 30,
   "id": "00832833-dc9e-45f9-a1c4-123a819881db",
   "metadata": {},
   "outputs": [
    {
     "data": {
      "text/html": [
       "<div>\n",
       "<style scoped>\n",
       "    .dataframe tbody tr th:only-of-type {\n",
       "        vertical-align: middle;\n",
       "    }\n",
       "\n",
       "    .dataframe tbody tr th {\n",
       "        vertical-align: top;\n",
       "    }\n",
       "\n",
       "    .dataframe thead th {\n",
       "        text-align: right;\n",
       "    }\n",
       "</style>\n",
       "<table border=\"1\" class=\"dataframe\">\n",
       "  <thead>\n",
       "    <tr style=\"text-align: right;\">\n",
       "      <th></th>\n",
       "      <th>Unnamed: 0</th>\n",
       "      <th>Department</th>\n",
       "      <th>Employee</th>\n",
       "      <th>Salary</th>\n",
       "    </tr>\n",
       "  </thead>\n",
       "  <tbody>\n",
       "    <tr>\n",
       "      <th>0</th>\n",
       "      <td>0</td>\n",
       "      <td>HR</td>\n",
       "      <td>Alice</td>\n",
       "      <td>50000</td>\n",
       "    </tr>\n",
       "    <tr>\n",
       "      <th>1</th>\n",
       "      <td>1</td>\n",
       "      <td>HR</td>\n",
       "      <td>Bob</td>\n",
       "      <td>52000</td>\n",
       "    </tr>\n",
       "    <tr>\n",
       "      <th>2</th>\n",
       "      <td>2</td>\n",
       "      <td>IT</td>\n",
       "      <td>Charlie</td>\n",
       "      <td>60000</td>\n",
       "    </tr>\n",
       "    <tr>\n",
       "      <th>3</th>\n",
       "      <td>3</td>\n",
       "      <td>IT</td>\n",
       "      <td>David</td>\n",
       "      <td>62000</td>\n",
       "    </tr>\n",
       "    <tr>\n",
       "      <th>4</th>\n",
       "      <td>4</td>\n",
       "      <td>Finance</td>\n",
       "      <td>Eve</td>\n",
       "      <td>58000</td>\n",
       "    </tr>\n",
       "    <tr>\n",
       "      <th>5</th>\n",
       "      <td>5</td>\n",
       "      <td>CFO</td>\n",
       "      <td>GP</td>\n",
       "      <td>999999</td>\n",
       "    </tr>\n",
       "  </tbody>\n",
       "</table>\n",
       "</div>"
      ],
      "text/plain": [
       "   Unnamed: 0 Department Employee  Salary\n",
       "0           0         HR    Alice   50000\n",
       "1           1         HR      Bob   52000\n",
       "2           2         IT  Charlie   60000\n",
       "3           3         IT    David   62000\n",
       "4           4    Finance      Eve   58000\n",
       "5           5        CFO       GP  999999"
      ]
     },
     "execution_count": 30,
     "metadata": {},
     "output_type": "execute_result"
    }
   ],
   "source": [
    "pd.read_excel(\"./test1.xlsx\")"
   ]
  },
  {
   "cell_type": "markdown",
   "id": "e9b3b43f-b673-4c89-b992-2b7641fa526c",
   "metadata": {},
   "source": [
    "How to draw index or pre order index while reading excel files using pandas"
   ]
  },
  {
   "cell_type": "code",
   "execution_count": null,
   "id": "158ff994-add6-4794-a08b-a5b142002849",
   "metadata": {},
   "outputs": [],
   "source": []
  }
 ],
 "metadata": {
  "kernelspec": {
   "display_name": "Python 3 (ipykernel)",
   "language": "python",
   "name": "python3"
  },
  "language_info": {
   "codemirror_mode": {
    "name": "ipython",
    "version": 3
   },
   "file_extension": ".py",
   "mimetype": "text/x-python",
   "name": "python",
   "nbconvert_exporter": "python",
   "pygments_lexer": "ipython3",
   "version": "3.12.4"
  }
 },
 "nbformat": 4,
 "nbformat_minor": 5
}
