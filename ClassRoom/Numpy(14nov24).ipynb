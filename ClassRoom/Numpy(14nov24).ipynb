{
 "cells": [
  {
   "cell_type": "code",
   "execution_count": 3,
   "id": "55501d62-33ff-4c67-98ff-7c797c0c2edc",
   "metadata": {},
   "outputs": [],
   "source": [
    "import numpy as np"
   ]
  },
  {
   "cell_type": "code",
   "execution_count": 2,
   "id": "05fef820-cbd0-4766-b386-40a2aa951edb",
   "metadata": {},
   "outputs": [
    {
     "name": "stdout",
     "output_type": "stream",
     "text": [
      "[1, 2, 3]\n",
      "[1 2 3]\n",
      "[1. 2. 3.]\n"
     ]
    }
   ],
   "source": [
    "a=[1,2,3]\n",
    "B=np.array(a,dtype=np.float64)\n",
    "A=np.array(a)\n",
    "print(a)\n",
    "print(A)\n",
    "print(B)"
   ]
  },
  {
   "cell_type": "code",
   "execution_count": 3,
   "id": "881e1ca2-dc62-4396-bdc2-0138c1b3384a",
   "metadata": {},
   "outputs": [
    {
     "data": {
      "text/plain": [
       "numpy.ndarray"
      ]
     },
     "execution_count": 3,
     "metadata": {},
     "output_type": "execute_result"
    }
   ],
   "source": [
    "type(A)"
   ]
  },
  {
   "cell_type": "code",
   "execution_count": 4,
   "id": "27ecb04c-cf6e-4ed1-b6d3-68deaa3255d2",
   "metadata": {},
   "outputs": [
    {
     "data": {
      "text/plain": [
       "(dtype('int64'), dtype('float64'))"
      ]
     },
     "execution_count": 4,
     "metadata": {},
     "output_type": "execute_result"
    }
   ],
   "source": [
    "A.dtype,B.dtype"
   ]
  },
  {
   "cell_type": "code",
   "execution_count": 5,
   "id": "e4a8285d-db6b-4fc2-b545-3d186f599b7f",
   "metadata": {},
   "outputs": [
    {
     "name": "stdout",
     "output_type": "stream",
     "text": [
      "Addition [5 7 9]\n",
      "Substraction [-3 -3 -3]\n",
      "Multiplication [ 4 10 18]\n",
      "Division [0.25 0.4  0.5 ]\n"
     ]
    }
   ],
   "source": [
    "a = np.array([1,2,3])\n",
    "b = np.array([4,5,6])\n",
    "\n",
    "print(\"Addition\", a + b)\n",
    "print(\"Substraction\", a - b)\n",
    "print(\"Multiplication\", a * b)\n",
    "print(\"Division\", a / b)"
   ]
  },
  {
   "cell_type": "code",
   "execution_count": 6,
   "id": "8f825585-b7eb-46a7-a0af-e1da6a143e1a",
   "metadata": {},
   "outputs": [
    {
     "data": {
      "text/plain": [
       "np.int64(1)"
      ]
     },
     "execution_count": 6,
     "metadata": {},
     "output_type": "execute_result"
    }
   ],
   "source": [
    "a[0]"
   ]
  },
  {
   "cell_type": "markdown",
   "id": "1d4b3f8a-cbe2-49e0-b868-d50296b7e948",
   "metadata": {},
   "source": [
    "Create a numpy array containing integer value from 1 to 10"
   ]
  },
  {
   "cell_type": "code",
   "execution_count": 8,
   "id": "fc05608e-9dfd-470a-8829-7ee18c0f3d01",
   "metadata": {},
   "outputs": [
    {
     "name": "stdout",
     "output_type": "stream",
     "text": [
      "5e-11\n"
     ]
    }
   ],
   "source": [
    "a=range(1,11)\n",
    "A=np.array(a)\n",
    "b=5e-11     #(5*10^5)\n",
    "A*2\n",
    "print(b)"
   ]
  },
  {
   "cell_type": "code",
   "execution_count": 10,
   "id": "006f2e07-69aa-439c-afab-5a191e009d9d",
   "metadata": {},
   "outputs": [
    {
     "name": "stdout",
     "output_type": "stream",
     "text": [
      "Element-wise Multiplication:\n",
      " [[ 5 12]\n",
      " [21 32]]\n",
      "dot Multiplication:\n",
      " [[19 22]\n",
      " [43 50]]\n",
      "matrix multiplication:\n",
      " [[19 22]\n",
      " [43 50]]\n"
     ]
    }
   ],
   "source": [
    "A = np.array([[1,2],[3,4]])\n",
    "B = np.array([[5,6],[7,8]])\n",
    "\n",
    "# Element-wise multiplication\n",
    "print(\"Element-wise Multiplication:\\n\",A * B)\n",
    "\n",
    "# Matrix multiplication (dot product)\n",
    "print(\"dot Multiplication:\\n\",A @ B)\n",
    "\n",
    "#matrix multiplication\n",
    "print(\"matrix multiplication:\\n\",np.matmul(A,B))"
   ]
  },
  {
   "cell_type": "code",
   "execution_count": 11,
   "id": "e4fa2a56-43f4-4333-ab0f-2a88db4475fd",
   "metadata": {},
   "outputs": [
    {
     "data": {
      "text/plain": [
       "array([[1, 3],\n",
       "       [2, 4]])"
      ]
     },
     "execution_count": 11,
     "metadata": {},
     "output_type": "execute_result"
    }
   ],
   "source": [
    "A.T"
   ]
  },
  {
   "cell_type": "code",
   "execution_count": 12,
   "id": "5e1e2ff3-06ea-4ee2-9817-ca2a73d534e2",
   "metadata": {},
   "outputs": [
    {
     "name": "stdout",
     "output_type": "stream",
     "text": [
      "Inverse:\n",
      " [[-2.   1. ]\n",
      " [ 1.5 -0.5]]\n"
     ]
    }
   ],
   "source": [
    "from numpy.linalg import inv\n",
    "\n",
    "A =np.array([[1,2],[3,4]])\n",
    "print(\"Inverse:\\n\",inv(A))"
   ]
  },
  {
   "cell_type": "code",
   "execution_count": 13,
   "id": "c97e36e2-42d1-4c71-93b5-a30e70188f0a",
   "metadata": {},
   "outputs": [
    {
     "data": {
      "text/plain": [
       "array([[0., 0., 0., 0.],\n",
       "       [0., 0., 0., 0.],\n",
       "       [0., 0., 0., 0.]])"
      ]
     },
     "execution_count": 13,
     "metadata": {},
     "output_type": "execute_result"
    }
   ],
   "source": [
    "np.array([1,2,3])\n",
    "np.zeros((3,4)) #3x4 matrix of zeroes"
   ]
  },
  {
   "cell_type": "code",
   "execution_count": 14,
   "id": "3f5bad42-c0a1-4667-a7db-c850b80dfdb7",
   "metadata": {},
   "outputs": [
    {
     "data": {
      "text/plain": [
       "array([[1., 0., 0., 0., 0.],\n",
       "       [0., 1., 0., 0., 0.],\n",
       "       [0., 0., 1., 0., 0.],\n",
       "       [0., 0., 0., 1., 0.],\n",
       "       [0., 0., 0., 0., 1.]])"
      ]
     },
     "execution_count": 14,
     "metadata": {},
     "output_type": "execute_result"
    }
   ],
   "source": [
    "np.eye(5)"
   ]
  },
  {
   "cell_type": "code",
   "execution_count": 5,
   "id": "fd37d813-3226-474c-b6c5-1ce042673752",
   "metadata": {},
   "outputs": [
    {
     "data": {
      "text/plain": [
       "array([0, 2, 4, 6, 8])"
      ]
     },
     "execution_count": 5,
     "metadata": {},
     "output_type": "execute_result"
    }
   ],
   "source": [
    "a1=np.arange(0,10,2) #[0,2,4,6,8] (min.max,stepsize)\n",
    "a1"
   ]
  },
  {
   "cell_type": "code",
   "execution_count": 17,
   "id": "8cbbfca6-9959-4db9-8b1b-f4a56151d903",
   "metadata": {},
   "outputs": [
    {
     "data": {
      "text/plain": [
       "array([0. , 0.2, 0.4, 0.6, 0.8, 1. ])"
      ]
     },
     "execution_count": 17,
     "metadata": {},
     "output_type": "execute_result"
    }
   ],
   "source": [
    "b1=np.linspace(0,1,6) #(min,max,point)\n",
    "b1"
   ]
  },
  {
   "cell_type": "code",
   "execution_count": 18,
   "id": "26fe031b-83e2-4bd8-8984-8af42ebca7ae",
   "metadata": {},
   "outputs": [
    {
     "data": {
      "text/plain": [
       "array([[1, 2, 3],\n",
       "       [4, 5, 6]])"
      ]
     },
     "execution_count": 18,
     "metadata": {},
     "output_type": "execute_result"
    }
   ],
   "source": [
    "arr=np.array([1,2,3,4,5,6])\n",
    "arr\n",
    "arr2=arr.reshape(2,3)\n",
    "arr2"
   ]
  },
  {
   "cell_type": "code",
   "execution_count": 19,
   "id": "7c8b679b-09ce-4910-a034-484ca7d144ba",
   "metadata": {},
   "outputs": [
    {
     "data": {
      "text/plain": [
       "6"
      ]
     },
     "execution_count": 19,
     "metadata": {},
     "output_type": "execute_result"
    }
   ],
   "source": [
    "len(arr)"
   ]
  },
  {
   "cell_type": "code",
   "execution_count": 20,
   "id": "41da7110-3e3b-4053-8537-3c18051e230c",
   "metadata": {},
   "outputs": [
    {
     "data": {
      "text/plain": [
       "6"
      ]
     },
     "execution_count": 20,
     "metadata": {},
     "output_type": "execute_result"
    }
   ],
   "source": [
    "arr.size\n",
    "arr2.size"
   ]
  },
  {
   "cell_type": "code",
   "execution_count": 21,
   "id": "cbf85d4a-fb2e-4eda-bc2e-ad8dad4831c4",
   "metadata": {},
   "outputs": [
    {
     "data": {
      "text/plain": [
       "(6,)"
      ]
     },
     "execution_count": 21,
     "metadata": {},
     "output_type": "execute_result"
    }
   ],
   "source": [
    "arr.shape"
   ]
  },
  {
   "cell_type": "code",
   "execution_count": 25,
   "id": "dc02d571-4a1b-4d67-b5d2-eba644e774cf",
   "metadata": {},
   "outputs": [
    {
     "data": {
      "text/plain": [
       "array([1, 2, 3, 4])"
      ]
     },
     "execution_count": 25,
     "metadata": {},
     "output_type": "execute_result"
    }
   ],
   "source": [
    "arr3=np.array([[1,2],[3,4]])\n",
    "b1=arr3.flatten() #into 1D array\n",
    "b1"
   ]
  },
  {
   "cell_type": "code",
   "execution_count": 27,
   "id": "5712c6a1-efc0-4c6a-9c9d-0dc449818a3a",
   "metadata": {},
   "outputs": [
    {
     "data": {
      "text/plain": [
       "1"
      ]
     },
     "execution_count": 27,
     "metadata": {},
     "output_type": "execute_result"
    }
   ],
   "source": [
    "b1.ndim #number of dimension"
   ]
  },
  {
   "cell_type": "markdown",
   "id": "607749e4-106d-4237-aab7-040b24518831",
   "metadata": {},
   "source": [
    "WAP to create X-axis containing times stamp for 1 hours duration containing 1 sample for each second"
   ]
  },
  {
   "cell_type": "code",
   "execution_count": 7,
   "id": "87348b7d-5a32-493d-89c5-47f52b6d02ae",
   "metadata": {},
   "outputs": [
    {
     "data": {
      "text/plain": [
       "array([   1,    2,    3, ..., 3597, 3598, 3599])"
      ]
     },
     "execution_count": 7,
     "metadata": {},
     "output_type": "execute_result"
    }
   ],
   "source": [
    "start=1\n",
    "end=3600 #1 hour = 60 min =60*60 sec\n",
    "step =1\n",
    "no_of_points=3600\n",
    "\n",
    "X=np.arange(start,end,step)\n",
    "X"
   ]
  },
  {
   "cell_type": "code",
   "execution_count": 8,
   "id": "76474a22-a2f0-4f4a-aea4-fda37c3467fa",
   "metadata": {},
   "outputs": [
    {
     "data": {
      "text/plain": [
       "array([1.000e+00, 2.000e+00, 3.000e+00, ..., 3.598e+03, 3.599e+03,\n",
       "       3.600e+03])"
      ]
     },
     "execution_count": 8,
     "metadata": {},
     "output_type": "execute_result"
    }
   ],
   "source": [
    "X=np.linspace(start,end,no_of_points)\n",
    "X"
   ]
  },
  {
   "cell_type": "code",
   "execution_count": 9,
   "id": "8eceafbb-8b33-4f9b-946e-723401c3db60",
   "metadata": {},
   "outputs": [
    {
     "data": {
      "text/plain": [
       "array([0.02528709, 0.05055801, 0.07579659, ..., 0.11329549, 0.08813499,\n",
       "       0.06291812])"
      ]
     },
     "execution_count": 9,
     "metadata": {},
     "output_type": "execute_result"
    }
   ],
   "source": [
    "#calculate following expression\n",
    "# Y =sin(2piwX)\n",
    "#assume w=10\n",
    "omega=10\n",
    "Y =np.sin(2*(22/7)*omega*X)\n",
    "Y"
   ]
  },
  {
   "cell_type": "code",
   "execution_count": 10,
   "id": "d3df38c1-20f9-4721-b9fb-a979994b0793",
   "metadata": {},
   "outputs": [
    {
     "name": "stderr",
     "output_type": "stream",
     "text": [
      "\n",
      "[notice] A new release of pip is available: 24.2 -> 24.3.1\n",
      "[notice] To update, run: python.exe -m pip install --upgrade pip\n"
     ]
    },
    {
     "name": "stdout",
     "output_type": "stream",
     "text": [
      "Collecting matplotlib\n",
      "  Downloading matplotlib-3.9.2-cp312-cp312-win_amd64.whl.metadata (11 kB)\n",
      "Collecting contourpy>=1.0.1 (from matplotlib)\n",
      "  Downloading contourpy-1.3.1-cp312-cp312-win_amd64.whl.metadata (5.4 kB)\n",
      "Collecting cycler>=0.10 (from matplotlib)\n",
      "  Downloading cycler-0.12.1-py3-none-any.whl.metadata (3.8 kB)\n",
      "Collecting fonttools>=4.22.0 (from matplotlib)\n",
      "  Downloading fonttools-4.55.0-cp312-cp312-win_amd64.whl.metadata (167 kB)\n",
      "Collecting kiwisolver>=1.3.1 (from matplotlib)\n",
      "  Downloading kiwisolver-1.4.7-cp312-cp312-win_amd64.whl.metadata (6.4 kB)\n",
      "Requirement already satisfied: numpy>=1.23 in c:\\users\\gops2\\appdata\\local\\programs\\python\\python312\\lib\\site-packages (from matplotlib) (2.0.0)\n",
      "Requirement already satisfied: packaging>=20.0 in c:\\users\\gops2\\appdata\\local\\programs\\python\\python312\\lib\\site-packages (from matplotlib) (24.1)\n",
      "Collecting pillow>=8 (from matplotlib)\n",
      "  Downloading pillow-11.0.0-cp312-cp312-win_amd64.whl.metadata (9.3 kB)\n",
      "Collecting pyparsing>=2.3.1 (from matplotlib)\n",
      "  Downloading pyparsing-3.2.0-py3-none-any.whl.metadata (5.0 kB)\n",
      "Requirement already satisfied: python-dateutil>=2.7 in c:\\users\\gops2\\appdata\\local\\programs\\python\\python312\\lib\\site-packages (from matplotlib) (2.9.0.post0)\n",
      "Requirement already satisfied: six>=1.5 in c:\\users\\gops2\\appdata\\local\\programs\\python\\python312\\lib\\site-packages (from python-dateutil>=2.7->matplotlib) (1.16.0)\n",
      "Downloading matplotlib-3.9.2-cp312-cp312-win_amd64.whl (7.8 MB)\n",
      "   ---------------------------------------- 0.0/7.8 MB ? eta -:--:--\n",
      "   -- ------------------------------------- 0.5/7.8 MB 5.6 MB/s eta 0:00:02\n",
      "   -------- ------------------------------- 1.6/7.8 MB 4.7 MB/s eta 0:00:02\n",
      "   ------------------ --------------------- 3.7/7.8 MB 6.6 MB/s eta 0:00:01\n",
      "   ---------------------------- ----------- 5.5/7.8 MB 7.3 MB/s eta 0:00:01\n",
      "   ------------------------------------- -- 7.3/7.8 MB 7.4 MB/s eta 0:00:01\n",
      "   ---------------------------------------- 7.8/7.8 MB 6.9 MB/s eta 0:00:00\n",
      "Downloading contourpy-1.3.1-cp312-cp312-win_amd64.whl (220 kB)\n",
      "Downloading cycler-0.12.1-py3-none-any.whl (8.3 kB)\n",
      "Downloading fonttools-4.55.0-cp312-cp312-win_amd64.whl (2.2 MB)\n",
      "   ---------------------------------------- 0.0/2.2 MB ? eta -:--:--\n",
      "   ----------------------- ---------------- 1.3/2.2 MB 8.4 MB/s eta 0:00:01\n",
      "   ---------------------------------------- 2.2/2.2 MB 7.3 MB/s eta 0:00:00\n",
      "Downloading kiwisolver-1.4.7-cp312-cp312-win_amd64.whl (55 kB)\n",
      "Downloading pillow-11.0.0-cp312-cp312-win_amd64.whl (2.6 MB)\n",
      "   ---------------------------------------- 0.0/2.6 MB ? eta -:--:--\n",
      "   ---------------------------- ----------- 1.8/2.6 MB 9.1 MB/s eta 0:00:01\n",
      "   ---------------------------------------- 2.6/2.6 MB 8.2 MB/s eta 0:00:00\n",
      "Downloading pyparsing-3.2.0-py3-none-any.whl (106 kB)\n",
      "Installing collected packages: pyparsing, pillow, kiwisolver, fonttools, cycler, contourpy, matplotlib\n",
      "Successfully installed contourpy-1.3.1 cycler-0.12.1 fonttools-4.55.0 kiwisolver-1.4.7 matplotlib-3.9.2 pillow-11.0.0 pyparsing-3.2.0\n"
     ]
    }
   ],
   "source": [
    "!pip install matplotlib"
   ]
  },
  {
   "cell_type": "code",
   "execution_count": 11,
   "id": "20597483-8df4-42be-9bf7-524bd5c471ce",
   "metadata": {},
   "outputs": [],
   "source": [
    "import matplotlib as npl"
   ]
  },
  {
   "cell_type": "code",
   "execution_count": 12,
   "id": "19ba03b4-8503-4158-ae01-8d6e14f5a993",
   "metadata": {},
   "outputs": [
    {
     "name": "stderr",
     "output_type": "stream",
     "text": [
      "Matplotlib is building the font cache; this may take a moment.\n"
     ]
    }
   ],
   "source": [
    "from matplotlib import pyplot as plt"
   ]
  },
  {
   "cell_type": "code",
   "execution_count": 14,
   "id": "4d6b82ce-b79c-4b19-9aad-c314b5b06d18",
   "metadata": {},
   "outputs": [
    {
     "data": {
      "image/png": "[encoded data removed]",
      "text/plain": [
       "<Figure size 640x480 with 1 Axes>"
      ]
     },
     "metadata": {},
     "output_type": "display_data"
    }
   ],
   "source": [
    "plt.plot(X,Y)\n",
    "plt.ylabel('Amplitute')\n",
    "plt.xlabel('time $(s)$')\n",
    "plt.grid()\n",
    "plt.savefig('test1.png')"
   ]
  },
  {
   "cell_type": "code",
   "execution_count": null,
   "id": "f58f2f70-a63e-4e54-afe4-faecbbb336b4",
   "metadata": {},
   "outputs": [],
   "source": []
  }
 ],
 "metadata": {
  "kernelspec": {
   "display_name": "Python 3 (ipykernel)",
   "language": "python",
   "name": "python3"
  },
  "language_info": {
   "codemirror_mode": {
    "name": "ipython",
    "version": 3
   },
   "file_extension": ".py",
   "mimetype": "text/x-python",
   "name": "python",
   "nbconvert_exporter": "python",
   "pygments_lexer": "ipython3",
   "version": "3.12.4"
  }
 },
 "nbformat": 4,
 "nbformat_minor": 5
}
